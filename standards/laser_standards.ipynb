{
 "cells": [
  {
   "cell_type": "markdown",
   "metadata": {},
   "source": [
    "# Laser Standard Comparison"
   ]
  },
  {
   "cell_type": "code",
   "execution_count": 1,
   "metadata": {},
   "outputs": [],
   "source": [
    "import pandas as pd\n",
    "import matplotlib.pyplot as plt\n",
    "import seaborn as sns\n",
    "from matplotlib.collections import PathCollection\n",
    "import glob\n",
    "import os\n",
    "from PIL import Image\n",
    "\n",
    "from IPython.core.interactiveshell import InteractiveShell\n",
    "#InteractiveShell.ast_node_interactivity = \"last\"\n",
    "from IPython import display"
   ]
  },
  {
   "cell_type": "markdown",
   "metadata": {},
   "source": [
    "## Import Excel Files"
   ]
  },
  {
   "cell_type": "code",
   "execution_count": 2,
   "metadata": {},
   "outputs": [
    {
     "name": "stdout",
     "output_type": "stream",
     "text": [
      "['/Users/gennachiaro/Documents/vanderbilt/research/ora caldera/trace-elements/2021-ORA-2A-036M-032-035_5B-404A-410.xlsm', '/Users/gennachiaro/Documents/vanderbilt/research/ora caldera/trace-elements/ORA-2A-001-031-035-5B-402.xlsm', '/Users/gennachiaro/Documents/vanderbilt/research/ora caldera/trace-elements/ORA-2A-004_036_Slide.xlsm', '/Users/gennachiaro/Documents/vanderbilt/research/ora caldera/trace-elements/ORA-5B-404A-404B.xlsm', '/Users/gennachiaro/Documents/vanderbilt/research/ora caldera/trace-elements/ORA-5B-407_410.xlsm', '/Users/gennachiaro/Documents/vanderbilt/research/ora caldera/trace-elements/ORA2A002_016_DATA.xlsm', '/Users/gennachiaro/Documents/vanderbilt/research/ora caldera/trace-elements/ORA2A003_023_032_040_DATA.xlsm', '/Users/gennachiaro/Documents/vanderbilt/research/ora caldera/trace-elements/ORA_2A_004_005_018_036_5B_405_406_408_409_411_413_415_416_417.xlsm', '/Users/gennachiaro/Documents/vanderbilt/research/ora caldera/trace-elements/ORA_2A_024_5B_414_412A_412B_DATA.xlsm', '/Users/gennachiaro/Documents/vanderbilt/research/ora caldera/trace-elements/~$ORA-2A-004_036_Slide.xlsm']\n"
     ]
    }
   ],
   "source": [
    "# Path to folder with laser data\n",
    "path = r'/Users/gennachiaro/Documents/vanderbilt/research/ora caldera/trace-elements/'\n",
    "\n",
    "filenames = glob.glob(path + '*.xlsm') #selects files for our chosen sample from the Sanidine_Plag_Tab_Test folder\n",
    "\n",
    "filenames = sorted(filenames)\n",
    "print(filenames)"
   ]
  },
  {
   "cell_type": "markdown",
   "metadata": {},
   "source": [
    "## Loop through excel files and create master dataframe"
   ]
  },
  {
   "cell_type": "code",
   "execution_count": 3,
   "metadata": {},
   "outputs": [],
   "source": [
    "# First create dataframes to store data\n",
    "\n",
    "NIST_610_all = pd.DataFrame()\n",
    "NIST_612_all = pd.DataFrame()\n",
    "NIST_614_all = pd.DataFrame()\n",
    "RGM_1_all = pd.DataFrame()\n",
    "ATHO_G_all = pd.DataFrame()"
   ]
  },
  {
   "cell_type": "code",
   "execution_count": 4,
   "metadata": {},
   "outputs": [
    {
     "name": "stdout",
     "output_type": "stream",
     "text": [
      "/Users/gennachiaro/Documents/vanderbilt/research/ora caldera/trace-elements/2021-ORA-2A-036M-032-035_5B-404A-410.xlsm\n",
      "2021-ORA-2A-036M-032-035_5B-404A-410\n"
     ]
    },
    {
     "ename": "KeyError",
     "evalue": "'ATHO-G'",
     "output_type": "error",
     "traceback": [
      "\u001b[0;31m---------------------------------------------------------------------------\u001b[0m",
      "\u001b[0;31mKeyError\u001b[0m                                  Traceback (most recent call last)",
      "\u001b[0;32m~/opt/anaconda3/envs/myenv/lib/python3.8/site-packages/pandas/core/indexes/base.py\u001b[0m in \u001b[0;36mget_loc\u001b[0;34m(self, key, method, tolerance)\u001b[0m\n\u001b[1;32m   3079\u001b[0m             \u001b[0;32mtry\u001b[0m\u001b[0;34m:\u001b[0m\u001b[0;34m\u001b[0m\u001b[0;34m\u001b[0m\u001b[0m\n\u001b[0;32m-> 3080\u001b[0;31m                 \u001b[0;32mreturn\u001b[0m \u001b[0mself\u001b[0m\u001b[0;34m.\u001b[0m\u001b[0m_engine\u001b[0m\u001b[0;34m.\u001b[0m\u001b[0mget_loc\u001b[0m\u001b[0;34m(\u001b[0m\u001b[0mcasted_key\u001b[0m\u001b[0;34m)\u001b[0m\u001b[0;34m\u001b[0m\u001b[0;34m\u001b[0m\u001b[0m\n\u001b[0m\u001b[1;32m   3081\u001b[0m             \u001b[0;32mexcept\u001b[0m \u001b[0mKeyError\u001b[0m \u001b[0;32mas\u001b[0m \u001b[0merr\u001b[0m\u001b[0;34m:\u001b[0m\u001b[0;34m\u001b[0m\u001b[0;34m\u001b[0m\u001b[0m\n",
      "\u001b[0;32mpandas/_libs/index.pyx\u001b[0m in \u001b[0;36mpandas._libs.index.IndexEngine.get_loc\u001b[0;34m()\u001b[0m\n",
      "\u001b[0;32mpandas/_libs/index.pyx\u001b[0m in \u001b[0;36mpandas._libs.index.IndexEngine.get_loc\u001b[0;34m()\u001b[0m\n",
      "\u001b[0;32mpandas/_libs/hashtable_class_helper.pxi\u001b[0m in \u001b[0;36mpandas._libs.hashtable.PyObjectHashTable.get_item\u001b[0;34m()\u001b[0m\n",
      "\u001b[0;32mpandas/_libs/hashtable_class_helper.pxi\u001b[0m in \u001b[0;36mpandas._libs.hashtable.PyObjectHashTable.get_item\u001b[0;34m()\u001b[0m\n",
      "\u001b[0;31mKeyError\u001b[0m: 'ATHO-G'",
      "\nThe above exception was the direct cause of the following exception:\n",
      "\u001b[0;31mKeyError\u001b[0m                                  Traceback (most recent call last)",
      "\u001b[0;32m<ipython-input-4-12a5c2571165>\u001b[0m in \u001b[0;36m<module>\u001b[0;34m\u001b[0m\n\u001b[1;32m     18\u001b[0m \u001b[0;34m\u001b[0m\u001b[0m\n\u001b[1;32m     19\u001b[0m     \u001b[0;31m#create seperate dataframe for each standard\u001b[0m\u001b[0;34m\u001b[0m\u001b[0;34m\u001b[0m\u001b[0;34m\u001b[0m\u001b[0m\n\u001b[0;32m---> 20\u001b[0;31m     \u001b[0mATHOG\u001b[0m \u001b[0;34m=\u001b[0m \u001b[0mtemp\u001b[0m\u001b[0;34m[\u001b[0m\u001b[0;34m'ATHO-G'\u001b[0m\u001b[0;34m]\u001b[0m\u001b[0;34m\u001b[0m\u001b[0;34m\u001b[0m\u001b[0m\n\u001b[0m\u001b[1;32m     21\u001b[0m     \u001b[0mNIST610\u001b[0m \u001b[0;34m=\u001b[0m \u001b[0mtemp\u001b[0m\u001b[0;34m[\u001b[0m\u001b[0;34m'NIST-610'\u001b[0m\u001b[0;34m]\u001b[0m\u001b[0;34m\u001b[0m\u001b[0;34m\u001b[0m\u001b[0m\n\u001b[1;32m     22\u001b[0m     \u001b[0mNIST612\u001b[0m \u001b[0;34m=\u001b[0m \u001b[0mtemp\u001b[0m\u001b[0;34m[\u001b[0m\u001b[0;34m'NIST-612'\u001b[0m\u001b[0;34m]\u001b[0m\u001b[0;34m\u001b[0m\u001b[0;34m\u001b[0m\u001b[0m\n",
      "\u001b[0;32m~/opt/anaconda3/envs/myenv/lib/python3.8/site-packages/pandas/core/frame.py\u001b[0m in \u001b[0;36m__getitem__\u001b[0;34m(self, key)\u001b[0m\n\u001b[1;32m   3022\u001b[0m             \u001b[0;32mif\u001b[0m \u001b[0mself\u001b[0m\u001b[0;34m.\u001b[0m\u001b[0mcolumns\u001b[0m\u001b[0;34m.\u001b[0m\u001b[0mnlevels\u001b[0m \u001b[0;34m>\u001b[0m \u001b[0;36m1\u001b[0m\u001b[0;34m:\u001b[0m\u001b[0;34m\u001b[0m\u001b[0;34m\u001b[0m\u001b[0m\n\u001b[1;32m   3023\u001b[0m                 \u001b[0;32mreturn\u001b[0m \u001b[0mself\u001b[0m\u001b[0;34m.\u001b[0m\u001b[0m_getitem_multilevel\u001b[0m\u001b[0;34m(\u001b[0m\u001b[0mkey\u001b[0m\u001b[0;34m)\u001b[0m\u001b[0;34m\u001b[0m\u001b[0;34m\u001b[0m\u001b[0m\n\u001b[0;32m-> 3024\u001b[0;31m             \u001b[0mindexer\u001b[0m \u001b[0;34m=\u001b[0m \u001b[0mself\u001b[0m\u001b[0;34m.\u001b[0m\u001b[0mcolumns\u001b[0m\u001b[0;34m.\u001b[0m\u001b[0mget_loc\u001b[0m\u001b[0;34m(\u001b[0m\u001b[0mkey\u001b[0m\u001b[0;34m)\u001b[0m\u001b[0;34m\u001b[0m\u001b[0;34m\u001b[0m\u001b[0m\n\u001b[0m\u001b[1;32m   3025\u001b[0m             \u001b[0;32mif\u001b[0m \u001b[0mis_integer\u001b[0m\u001b[0;34m(\u001b[0m\u001b[0mindexer\u001b[0m\u001b[0;34m)\u001b[0m\u001b[0;34m:\u001b[0m\u001b[0;34m\u001b[0m\u001b[0;34m\u001b[0m\u001b[0m\n\u001b[1;32m   3026\u001b[0m                 \u001b[0mindexer\u001b[0m \u001b[0;34m=\u001b[0m \u001b[0;34m[\u001b[0m\u001b[0mindexer\u001b[0m\u001b[0;34m]\u001b[0m\u001b[0;34m\u001b[0m\u001b[0;34m\u001b[0m\u001b[0m\n",
      "\u001b[0;32m~/opt/anaconda3/envs/myenv/lib/python3.8/site-packages/pandas/core/indexes/base.py\u001b[0m in \u001b[0;36mget_loc\u001b[0;34m(self, key, method, tolerance)\u001b[0m\n\u001b[1;32m   3080\u001b[0m                 \u001b[0;32mreturn\u001b[0m \u001b[0mself\u001b[0m\u001b[0;34m.\u001b[0m\u001b[0m_engine\u001b[0m\u001b[0;34m.\u001b[0m\u001b[0mget_loc\u001b[0m\u001b[0;34m(\u001b[0m\u001b[0mcasted_key\u001b[0m\u001b[0;34m)\u001b[0m\u001b[0;34m\u001b[0m\u001b[0;34m\u001b[0m\u001b[0m\n\u001b[1;32m   3081\u001b[0m             \u001b[0;32mexcept\u001b[0m \u001b[0mKeyError\u001b[0m \u001b[0;32mas\u001b[0m \u001b[0merr\u001b[0m\u001b[0;34m:\u001b[0m\u001b[0;34m\u001b[0m\u001b[0;34m\u001b[0m\u001b[0m\n\u001b[0;32m-> 3082\u001b[0;31m                 \u001b[0;32mraise\u001b[0m \u001b[0mKeyError\u001b[0m\u001b[0;34m(\u001b[0m\u001b[0mkey\u001b[0m\u001b[0;34m)\u001b[0m \u001b[0;32mfrom\u001b[0m \u001b[0merr\u001b[0m\u001b[0;34m\u001b[0m\u001b[0;34m\u001b[0m\u001b[0m\n\u001b[0m\u001b[1;32m   3083\u001b[0m \u001b[0;34m\u001b[0m\u001b[0m\n\u001b[1;32m   3084\u001b[0m         \u001b[0;32mif\u001b[0m \u001b[0mtolerance\u001b[0m \u001b[0;32mis\u001b[0m \u001b[0;32mnot\u001b[0m \u001b[0;32mNone\u001b[0m\u001b[0;34m:\u001b[0m\u001b[0;34m\u001b[0m\u001b[0;34m\u001b[0m\u001b[0m\n",
      "\u001b[0;31mKeyError\u001b[0m: 'ATHO-G'"
     ]
    }
   ],
   "source": [
    "# Then run loop to get all the data from the excel files\n",
    "\n",
    "for filename in filenames:\n",
    "    print(filename)\n",
    "\n",
    "    #read the file into a pandas dataframe and assign it to a variable\n",
    "    temp = pd.read_excel(filename, sheet_name = 'Std_Data')\n",
    "\n",
    "    #append an identifier to each sample name\n",
    "    basename = os.path.basename(filename)\n",
    "\n",
    "    #edit basename\n",
    "    basename = basename.replace('.xlsm', '')\n",
    "    print(basename)\n",
    "\n",
    "    # map filenames to date acquired???\n",
    "\n",
    "\n",
    "    #create seperate dataframe for each standard\n",
    "    ATHOG = temp['ATHO-G']\n",
    "    NIST610 = temp['NIST-610']\n",
    "    NIST612 = temp['NIST-612']\n",
    "    NIST614 = temp['NIST-614']\n",
    "    RGM1 = temp['RGM-1']\n",
    "\n",
    "    #read in identifier into a column for each of the dataframes"
   ]
  },
  {
   "cell_type": "code",
   "execution_count": 5,
   "metadata": {},
   "outputs": [
    {
     "name": "stdout",
     "output_type": "stream",
     "text": [
      "/Users/gennachiaro/Documents/vanderbilt/research/ora caldera/trace-elements/2021-ORA-2A-036M-032-035_5B-404A-410.xlsm\n",
      "/Users/gennachiaro/Documents/vanderbilt/research/ora caldera/trace-elements/ORA-2A-001-031-035-5B-402.xlsm\n",
      "/Users/gennachiaro/Documents/vanderbilt/research/ora caldera/trace-elements/ORA-2A-004_036_Slide.xlsm\n",
      "/Users/gennachiaro/Documents/vanderbilt/research/ora caldera/trace-elements/ORA-5B-404A-404B.xlsm\n",
      "/Users/gennachiaro/Documents/vanderbilt/research/ora caldera/trace-elements/ORA-5B-407_410.xlsm\n",
      "/Users/gennachiaro/Documents/vanderbilt/research/ora caldera/trace-elements/ORA2A002_016_DATA.xlsm\n",
      "/Users/gennachiaro/Documents/vanderbilt/research/ora caldera/trace-elements/ORA2A003_023_032_040_DATA.xlsm\n",
      "/Users/gennachiaro/Documents/vanderbilt/research/ora caldera/trace-elements/ORA_2A_004_005_018_036_5B_405_406_408_409_411_413_415_416_417.xlsm\n",
      "/Users/gennachiaro/Documents/vanderbilt/research/ora caldera/trace-elements/ORA_2A_024_5B_414_412A_412B_DATA.xlsm\n",
      "/Users/gennachiaro/Documents/vanderbilt/research/ora caldera/trace-elements/~$ORA-2A-004_036_Slide.xlsm\n"
     ]
    },
    {
     "ename": "FileNotFoundError",
     "evalue": "[Errno 2] No such file or directory: '/Users/gennachiaro/Documents/vanderbilt/research/ora caldera/trace-elements/~$ORA-2A-004_036_Slide.xlsm'",
     "output_type": "error",
     "traceback": [
      "\u001b[0;31m---------------------------------------------------------------------------\u001b[0m",
      "\u001b[0;31mFileNotFoundError\u001b[0m                         Traceback (most recent call last)",
      "\u001b[0;32m<ipython-input-5-dca89baa667c>\u001b[0m in \u001b[0;36m<module>\u001b[0;34m\u001b[0m\n\u001b[1;32m      3\u001b[0m \u001b[0;34m\u001b[0m\u001b[0m\n\u001b[1;32m      4\u001b[0m     \u001b[0;31m#read the file into a pandas dataframe and assign it to a variable\u001b[0m\u001b[0;34m\u001b[0m\u001b[0;34m\u001b[0m\u001b[0;34m\u001b[0m\u001b[0m\n\u001b[0;32m----> 5\u001b[0;31m     \u001b[0mtemp\u001b[0m \u001b[0;34m=\u001b[0m \u001b[0mpd\u001b[0m\u001b[0;34m.\u001b[0m\u001b[0mread_excel\u001b[0m\u001b[0;34m(\u001b[0m\u001b[0mfilename\u001b[0m\u001b[0;34m,\u001b[0m \u001b[0msheet_name\u001b[0m \u001b[0;34m=\u001b[0m \u001b[0;34m'Std_Data'\u001b[0m\u001b[0;34m)\u001b[0m\u001b[0;34m\u001b[0m\u001b[0;34m\u001b[0m\u001b[0m\n\u001b[0m\u001b[1;32m      6\u001b[0m \u001b[0;34m\u001b[0m\u001b[0m\n\u001b[1;32m      7\u001b[0m     \u001b[0;31m# Drop rows with any NaN values\u001b[0m\u001b[0;34m\u001b[0m\u001b[0;34m\u001b[0m\u001b[0;34m\u001b[0m\u001b[0m\n",
      "\u001b[0;32m~/opt/anaconda3/envs/myenv/lib/python3.8/site-packages/pandas/util/_decorators.py\u001b[0m in \u001b[0;36mwrapper\u001b[0;34m(*args, **kwargs)\u001b[0m\n\u001b[1;32m    297\u001b[0m                 )\n\u001b[1;32m    298\u001b[0m                 \u001b[0mwarnings\u001b[0m\u001b[0;34m.\u001b[0m\u001b[0mwarn\u001b[0m\u001b[0;34m(\u001b[0m\u001b[0mmsg\u001b[0m\u001b[0;34m,\u001b[0m \u001b[0mFutureWarning\u001b[0m\u001b[0;34m,\u001b[0m \u001b[0mstacklevel\u001b[0m\u001b[0;34m=\u001b[0m\u001b[0mstacklevel\u001b[0m\u001b[0;34m)\u001b[0m\u001b[0;34m\u001b[0m\u001b[0;34m\u001b[0m\u001b[0m\n\u001b[0;32m--> 299\u001b[0;31m             \u001b[0;32mreturn\u001b[0m \u001b[0mfunc\u001b[0m\u001b[0;34m(\u001b[0m\u001b[0;34m*\u001b[0m\u001b[0margs\u001b[0m\u001b[0;34m,\u001b[0m \u001b[0;34m**\u001b[0m\u001b[0mkwargs\u001b[0m\u001b[0;34m)\u001b[0m\u001b[0;34m\u001b[0m\u001b[0;34m\u001b[0m\u001b[0m\n\u001b[0m\u001b[1;32m    300\u001b[0m \u001b[0;34m\u001b[0m\u001b[0m\n\u001b[1;32m    301\u001b[0m         \u001b[0;32mreturn\u001b[0m \u001b[0mwrapper\u001b[0m\u001b[0;34m\u001b[0m\u001b[0;34m\u001b[0m\u001b[0m\n",
      "\u001b[0;32m~/opt/anaconda3/envs/myenv/lib/python3.8/site-packages/pandas/io/excel/_base.py\u001b[0m in \u001b[0;36mread_excel\u001b[0;34m(io, sheet_name, header, names, index_col, usecols, squeeze, dtype, engine, converters, true_values, false_values, skiprows, nrows, na_values, keep_default_na, na_filter, verbose, parse_dates, date_parser, thousands, comment, skipfooter, convert_float, mangle_dupe_cols, storage_options)\u001b[0m\n\u001b[1;32m    334\u001b[0m     \u001b[0;32mif\u001b[0m \u001b[0;32mnot\u001b[0m \u001b[0misinstance\u001b[0m\u001b[0;34m(\u001b[0m\u001b[0mio\u001b[0m\u001b[0;34m,\u001b[0m \u001b[0mExcelFile\u001b[0m\u001b[0;34m)\u001b[0m\u001b[0;34m:\u001b[0m\u001b[0;34m\u001b[0m\u001b[0;34m\u001b[0m\u001b[0m\n\u001b[1;32m    335\u001b[0m         \u001b[0mshould_close\u001b[0m \u001b[0;34m=\u001b[0m \u001b[0;32mTrue\u001b[0m\u001b[0;34m\u001b[0m\u001b[0;34m\u001b[0m\u001b[0m\n\u001b[0;32m--> 336\u001b[0;31m         \u001b[0mio\u001b[0m \u001b[0;34m=\u001b[0m \u001b[0mExcelFile\u001b[0m\u001b[0;34m(\u001b[0m\u001b[0mio\u001b[0m\u001b[0;34m,\u001b[0m \u001b[0mstorage_options\u001b[0m\u001b[0;34m=\u001b[0m\u001b[0mstorage_options\u001b[0m\u001b[0;34m,\u001b[0m \u001b[0mengine\u001b[0m\u001b[0;34m=\u001b[0m\u001b[0mengine\u001b[0m\u001b[0;34m)\u001b[0m\u001b[0;34m\u001b[0m\u001b[0;34m\u001b[0m\u001b[0m\n\u001b[0m\u001b[1;32m    337\u001b[0m     \u001b[0;32melif\u001b[0m \u001b[0mengine\u001b[0m \u001b[0;32mand\u001b[0m \u001b[0mengine\u001b[0m \u001b[0;34m!=\u001b[0m \u001b[0mio\u001b[0m\u001b[0;34m.\u001b[0m\u001b[0mengine\u001b[0m\u001b[0;34m:\u001b[0m\u001b[0;34m\u001b[0m\u001b[0;34m\u001b[0m\u001b[0m\n\u001b[1;32m    338\u001b[0m         raise ValueError(\n",
      "\u001b[0;32m~/opt/anaconda3/envs/myenv/lib/python3.8/site-packages/pandas/io/excel/_base.py\u001b[0m in \u001b[0;36m__init__\u001b[0;34m(self, path_or_buffer, engine, storage_options)\u001b[0m\n\u001b[1;32m   1055\u001b[0m             \u001b[0mext\u001b[0m \u001b[0;34m=\u001b[0m \u001b[0;34m\"xls\"\u001b[0m\u001b[0;34m\u001b[0m\u001b[0;34m\u001b[0m\u001b[0m\n\u001b[1;32m   1056\u001b[0m         \u001b[0;32melse\u001b[0m\u001b[0;34m:\u001b[0m\u001b[0;34m\u001b[0m\u001b[0;34m\u001b[0m\u001b[0m\n\u001b[0;32m-> 1057\u001b[0;31m             ext = inspect_excel_format(\n\u001b[0m\u001b[1;32m   1058\u001b[0m                 \u001b[0mcontent\u001b[0m\u001b[0;34m=\u001b[0m\u001b[0mpath_or_buffer\u001b[0m\u001b[0;34m,\u001b[0m \u001b[0mstorage_options\u001b[0m\u001b[0;34m=\u001b[0m\u001b[0mstorage_options\u001b[0m\u001b[0;34m\u001b[0m\u001b[0;34m\u001b[0m\u001b[0m\n\u001b[1;32m   1059\u001b[0m             )\n",
      "\u001b[0;32m~/opt/anaconda3/envs/myenv/lib/python3.8/site-packages/pandas/io/excel/_base.py\u001b[0m in \u001b[0;36minspect_excel_format\u001b[0;34m(path, content, storage_options)\u001b[0m\n\u001b[1;32m    936\u001b[0m     \u001b[0;32massert\u001b[0m \u001b[0mcontent_or_path\u001b[0m \u001b[0;32mis\u001b[0m \u001b[0;32mnot\u001b[0m \u001b[0;32mNone\u001b[0m\u001b[0;34m\u001b[0m\u001b[0;34m\u001b[0m\u001b[0m\n\u001b[1;32m    937\u001b[0m \u001b[0;34m\u001b[0m\u001b[0m\n\u001b[0;32m--> 938\u001b[0;31m     with get_handle(\n\u001b[0m\u001b[1;32m    939\u001b[0m         \u001b[0mcontent_or_path\u001b[0m\u001b[0;34m,\u001b[0m \u001b[0;34m\"rb\"\u001b[0m\u001b[0;34m,\u001b[0m \u001b[0mstorage_options\u001b[0m\u001b[0;34m=\u001b[0m\u001b[0mstorage_options\u001b[0m\u001b[0;34m,\u001b[0m \u001b[0mis_text\u001b[0m\u001b[0;34m=\u001b[0m\u001b[0;32mFalse\u001b[0m\u001b[0;34m\u001b[0m\u001b[0;34m\u001b[0m\u001b[0m\n\u001b[1;32m    940\u001b[0m     ) as handle:\n",
      "\u001b[0;32m~/opt/anaconda3/envs/myenv/lib/python3.8/site-packages/pandas/io/common.py\u001b[0m in \u001b[0;36mget_handle\u001b[0;34m(path_or_buf, mode, encoding, compression, memory_map, is_text, errors, storage_options)\u001b[0m\n\u001b[1;32m    649\u001b[0m         \u001b[0;32melse\u001b[0m\u001b[0;34m:\u001b[0m\u001b[0;34m\u001b[0m\u001b[0;34m\u001b[0m\u001b[0m\n\u001b[1;32m    650\u001b[0m             \u001b[0;31m# Binary mode\u001b[0m\u001b[0;34m\u001b[0m\u001b[0;34m\u001b[0m\u001b[0;34m\u001b[0m\u001b[0m\n\u001b[0;32m--> 651\u001b[0;31m             \u001b[0mhandle\u001b[0m \u001b[0;34m=\u001b[0m \u001b[0mopen\u001b[0m\u001b[0;34m(\u001b[0m\u001b[0mhandle\u001b[0m\u001b[0;34m,\u001b[0m \u001b[0mioargs\u001b[0m\u001b[0;34m.\u001b[0m\u001b[0mmode\u001b[0m\u001b[0;34m)\u001b[0m\u001b[0;34m\u001b[0m\u001b[0;34m\u001b[0m\u001b[0m\n\u001b[0m\u001b[1;32m    652\u001b[0m         \u001b[0mhandles\u001b[0m\u001b[0;34m.\u001b[0m\u001b[0mappend\u001b[0m\u001b[0;34m(\u001b[0m\u001b[0mhandle\u001b[0m\u001b[0;34m)\u001b[0m\u001b[0;34m\u001b[0m\u001b[0;34m\u001b[0m\u001b[0m\n\u001b[1;32m    653\u001b[0m \u001b[0;34m\u001b[0m\u001b[0m\n",
      "\u001b[0;31mFileNotFoundError\u001b[0m: [Errno 2] No such file or directory: '/Users/gennachiaro/Documents/vanderbilt/research/ora caldera/trace-elements/~$ORA-2A-004_036_Slide.xlsm'"
     ]
    }
   ],
   "source": [
    "for filename in filenames:\n",
    "    print(filename)\n",
    "\n",
    "    #read the file into a pandas dataframe and assign it to a variable\n",
    "    temp = pd.read_excel(filename, sheet_name = 'Std_Data')\n",
    "    \n",
    "    # Drop rows with any NaN values\n",
    "    temp = temp.dropna(axis = 0)\n",
    "\n",
    "    #temp = temp.set_index(\"Standard\")\n",
    "\n",
    "\n",
    "# make it so \"if certain standard, make column with that standard - or put in dataframe with that standard\"\n",
    "for i in temp['Standard'] :\n",
    "    print (i)\n",
    "    \n"
   ]
  },
  {
   "cell_type": "code",
   "execution_count": 20,
   "metadata": {},
   "outputs": [
    {
     "name": "stdout",
     "output_type": "stream",
     "text": [
      "NIST-610-1\n",
      "NIST-610-2\n",
      "NIST-610-3\n",
      "NIST-610-4\n",
      "NIST-610-5\n",
      "NIST-610-6\n",
      "NIST-610-7\n",
      "NIST-610-8\n",
      "NIST-610-9\n",
      "NIST-610-10\n",
      "NIST-610-11\n",
      "NIST-610-12\n",
      "NIST-610-13\n",
      "NIST-610-14\n",
      "NIST-610-15\n",
      "NIST-610-16\n",
      "NIST-610-17\n",
      "NIST-610-18\n",
      "NIST-610-19\n",
      "NIST-610-20\n",
      "NIST-610-21\n",
      "NIST-610-22\n",
      "NIST-610-23\n",
      "NIST-610-24\n",
      "NIST-610-25\n",
      "NIST-610-26\n",
      "NIST-610-27\n",
      "NIST-610-28\n",
      "NIST-610-29\n",
      "NIST-610-30\n",
      "NIST-610-31\n",
      "NIST-610-32\n",
      "NIST-612-1\n",
      "NIST-612-2\n",
      "NIST-612-3\n",
      "NIST-612-4\n",
      "NIST-612-5\n",
      "NIST-612-6\n",
      "NIST-612-7\n",
      "NIST-612-8\n",
      "NIST-612-9\n",
      "NIST-612-10\n",
      "NIST-612-11\n",
      "NIST-612-12\n",
      "NIST-612-13\n",
      "NIST-612-14\n",
      "NIST-612-15\n",
      "NIST-612-16\n",
      "NIST-612-17\n",
      "NIST-612-18\n",
      "NIST-612-19\n",
      "NIST-612-20\n",
      "NIST-612-21\n",
      "NIST-612-22\n",
      "NIST-614-1\n",
      "NIST-614-2\n",
      "NIST-614-3\n",
      "NIST-614-4\n",
      "NIST-614-5\n",
      "NIST-614-6\n",
      "NIST-614-7\n",
      "NIST-614-8\n",
      "NIST-614-9\n",
      "NIST-614-10\n",
      "NIST-614-11\n",
      "NIST-614-12\n",
      "NIST-614-13\n",
      "NIST-614-14\n",
      "NIST-614-15\n",
      "NIST-614-16\n",
      "NIST-614-17\n",
      "NIST-614-18\n",
      "NIST-614-19\n",
      "NIST-614-20\n",
      "NIST-614-21\n",
      "NIST-614-22\n",
      "RGM-1-1\n",
      "RGM-1-2\n",
      "RGM-1-3\n",
      "RGM-1-4\n",
      "RGM-1-5\n",
      "RGM-1-6\n",
      "RGM-1-7\n",
      "RGM-1-8\n",
      "RGM-1-9\n",
      "RGM-1-10\n",
      "RGM-1-11\n",
      "RGM-1-12\n",
      "RGM-1-13\n",
      "RGM-1-14\n",
      "RGM-1-15\n",
      "RGM-1-16\n",
      "RGM-1-17\n",
      "RGM-1-18\n",
      "RGM-1-19\n",
      "RGM-1-20\n",
      "RGM-1-21\n",
      "RGM-1-22\n",
      "ATHO-G-1\n",
      "ATHO-G-2\n",
      "ATHO-G-3\n",
      "ATHO-G-4\n",
      "ATHO-G-5\n",
      "ATHO-G-6\n",
      "ATHO-G-7\n",
      "ATHO-G-8\n",
      "ATHO-G-9\n",
      "ATHO-G-10\n",
      "ATHO-G-11\n"
     ]
    }
   ],
   "source": [
    "import string\n",
    "\n",
    "\n",
    "for i in temp['Standard'] :\n",
    "    print (i)\n",
    "\n",
    "temp['Sample'] = temp['Standard']\n",
    "\n",
    "\n",
    "\n",
    "# # Create a column called Sample with Std Sample name in it\n",
    "for i in temp['Sample'] :\n",
    "\n",
    "    if i.startswith(\"NIST-610\"):\n",
    "        temp['Sample'] = str('NIST-610')\n",
    "        #NIST_610_all = NIST_610_all.append(i)\n",
    "\n",
    "    elif i.startswith(\"NIST-612\"):\n",
    "        temp['Sample'] = str('NIST-612')\n",
    "    \n",
    "    elif i.startswith(\"NIST-614\"):\n",
    "        temp['Sample'] = str('NIST-614')\n",
    "\n",
    "    elif i.startswith(\"ATHO-G\"):\n",
    "        temp['Sample'] = str('ATHO-G')\n",
    "\n",
    "    elif i.startswith(\"RGM-1\"):\n",
    "        temp['Sample'] = str('RGM-1')\n",
    "\n",
    "\n",
    "\n",
    "\n",
    "\n",
    "    # substring = \"NIST-610\"\n",
    "    # fullstring = i\n",
    "\n",
    "    # if substring in i :\n",
    "    #     temp['Sample'] = str('NIST-610')\n",
    "\n",
    "    # substring = \"NIST-612\"\n",
    "    # elif substring in i:\n",
    "    #     temp['Sample'] = str('NIST-612')\n",
    "\n",
    "    # substring = \"NIST-614\"\n",
    "    # elif substring in i:\n",
    "    #     temp['Sample'] = str('NIST-614')\n",
    "\n",
    "    # substring = \"ATHO-G\"\n",
    "    # elif substring in i:\n",
    "    #     temp['Sample'] = str('ATHO-G')\n",
    "\n",
    "    # substring = \"RGM-1\"\n",
    "    # elif substring in i:\n",
    "    #     temp['Sample'] = str('RGM-1')\n",
    "\n",
    "\n",
    "    # # i.startswith(\"NIST-610\"):\n",
    "    # #     temp['Sample'] = str('NIST-610')\n",
    "    # #     #NIST_610_all = NIST_610_all.append(i)\n",
    "\n",
    "    # # elif i.startswith(\"NIST-612\"):\n",
    "    # #     temp['Sample'] = str('NIST-612')\n",
    "    \n",
    "    # # elif i.startswith(\"NIST-614\"):\n",
    "    # #     temp['Sample'] = str('NIST-614')\n",
    "\n",
    "    # # elif i.startswith(\"ATHO-G\"):\n",
    "    # #     temp['Sample'] = str('ATHO-G')\n",
    "\n",
    "    # # elif i.startswith(\"RGM-1\"):\n",
    "    # #     temp['Sample'] = str('RGM-1')"
   ]
  },
  {
   "cell_type": "code",
   "execution_count": null,
   "metadata": {},
   "outputs": [],
   "source": []
  }
 ],
 "metadata": {
  "kernelspec": {
   "display_name": "Python 3.8.12 ('myenv')",
   "language": "python",
   "name": "python3"
  },
  "language_info": {
   "codemirror_mode": {
    "name": "ipython",
    "version": 3
   },
   "file_extension": ".py",
   "mimetype": "text/x-python",
   "name": "python",
   "nbconvert_exporter": "python",
   "pygments_lexer": "ipython3",
   "version": "3.8.12"
  },
  "orig_nbformat": 4,
  "vscode": {
   "interpreter": {
    "hash": "752b670b82d8fa8b9344673721c114f460db6cd94d58b79aafcc7a99e5932b1e"
   }
  }
 },
 "nbformat": 4,
 "nbformat_minor": 2
}

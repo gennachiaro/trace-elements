{
 "cells": [
  {
   "cell_type": "code",
   "execution_count": null,
   "metadata": {},
   "outputs": [],
   "source": []
  },
  {
   "cell_type": "code",
   "execution_count": 20,
   "metadata": {},
   "outputs": [
    {
     "name": "stdout",
     "output_type": "stream",
     "text": [
      "       STATION         NAME     DATE  CDSD  DSND  DSNW  EMNT  EMSD  EMSN  \\\n",
      "0  USC00025467  MESA, AZ US  1896-03   NaN   0.0   0.0   1.1   0.0   0.0   \n",
      "1  USC00025467  MESA, AZ US  1896-04   NaN   0.0   0.0   4.4   0.0   0.0   \n",
      "2  USC00025467  MESA, AZ US  1896-06   NaN   0.0   0.0  15.6   0.0   0.0   \n",
      "3  USC00025467  MESA, AZ US  1896-07   NaN   0.0   0.0  12.2   0.0   0.0   \n",
      "4  USC00025467  MESA, AZ US  1896-08   NaN   0.0   0.0  16.1   0.0   0.0   \n",
      "\n",
      "   EMXP  EMXT  HDSD  PRCP  SNOW  TAVG  TMAX  TMIN  \n",
      "0   9.9  35.0   NaN  11.7   0.0  16.7  24.9   8.4  \n",
      "1   0.8  35.6   NaN   0.8   0.0  18.3  28.0   8.7  \n",
      "2   0.0  46.7   NaN   0.0   0.0  31.2  41.9  20.5  \n",
      "3  22.9  43.3   0.0  86.5   0.0  28.6  38.4  18.8  \n",
      "4   2.3  43.3   0.0   6.7   0.0  29.9  37.1  22.8  \n"
     ]
    }
   ],
   "source": [
    "import pandas as pd\n",
    "\n",
    "df = pd.read_excel('https://github.com/HeardLibrary/digital-scholarship/raw/master/data/codegraf/mesa2880172.xlsx')\n",
    "print(df.head())"
   ]
  },
  {
   "cell_type": "code",
   "execution_count": 21,
   "metadata": {},
   "outputs": [
    {
     "data": {
      "text/plain": [
       "(1421, 17)"
      ]
     },
     "execution_count": 21,
     "metadata": {},
     "output_type": "execute_result"
    }
   ],
   "source": [
    "df.shape"
   ]
  },
  {
   "cell_type": "code",
   "execution_count": 22,
   "metadata": {},
   "outputs": [
    {
     "data": {
      "text/html": [
       "<div>\n",
       "<style scoped>\n",
       "    .dataframe tbody tr th:only-of-type {\n",
       "        vertical-align: middle;\n",
       "    }\n",
       "\n",
       "    .dataframe tbody tr th {\n",
       "        vertical-align: top;\n",
       "    }\n",
       "\n",
       "    .dataframe thead th {\n",
       "        text-align: right;\n",
       "    }\n",
       "</style>\n",
       "<table border=\"1\" class=\"dataframe\">\n",
       "  <thead>\n",
       "    <tr style=\"text-align: right;\">\n",
       "      <th></th>\n",
       "      <th>DATE</th>\n",
       "      <th>CDSD</th>\n",
       "      <th>DSND</th>\n",
       "      <th>DSNW</th>\n",
       "      <th>EMNT</th>\n",
       "      <th>EMSD</th>\n",
       "      <th>EMSN</th>\n",
       "      <th>EMXP</th>\n",
       "      <th>EMXT</th>\n",
       "      <th>HDSD</th>\n",
       "      <th>PRCP</th>\n",
       "      <th>SNOW</th>\n",
       "      <th>TAVG</th>\n",
       "      <th>TMAX</th>\n",
       "      <th>TMIN</th>\n",
       "    </tr>\n",
       "  </thead>\n",
       "  <tbody>\n",
       "    <tr>\n",
       "      <th>0</th>\n",
       "      <td>1896-03</td>\n",
       "      <td>NaN</td>\n",
       "      <td>0.0</td>\n",
       "      <td>0.0</td>\n",
       "      <td>1.1</td>\n",
       "      <td>0.0</td>\n",
       "      <td>0.0</td>\n",
       "      <td>9.9</td>\n",
       "      <td>35.0</td>\n",
       "      <td>NaN</td>\n",
       "      <td>11.7</td>\n",
       "      <td>0.0</td>\n",
       "      <td>16.7</td>\n",
       "      <td>24.9</td>\n",
       "      <td>8.4</td>\n",
       "    </tr>\n",
       "    <tr>\n",
       "      <th>1</th>\n",
       "      <td>1896-04</td>\n",
       "      <td>NaN</td>\n",
       "      <td>0.0</td>\n",
       "      <td>0.0</td>\n",
       "      <td>4.4</td>\n",
       "      <td>0.0</td>\n",
       "      <td>0.0</td>\n",
       "      <td>0.8</td>\n",
       "      <td>35.6</td>\n",
       "      <td>NaN</td>\n",
       "      <td>0.8</td>\n",
       "      <td>0.0</td>\n",
       "      <td>18.3</td>\n",
       "      <td>28.0</td>\n",
       "      <td>8.7</td>\n",
       "    </tr>\n",
       "    <tr>\n",
       "      <th>2</th>\n",
       "      <td>1896-06</td>\n",
       "      <td>NaN</td>\n",
       "      <td>0.0</td>\n",
       "      <td>0.0</td>\n",
       "      <td>15.6</td>\n",
       "      <td>0.0</td>\n",
       "      <td>0.0</td>\n",
       "      <td>0.0</td>\n",
       "      <td>46.7</td>\n",
       "      <td>NaN</td>\n",
       "      <td>0.0</td>\n",
       "      <td>0.0</td>\n",
       "      <td>31.2</td>\n",
       "      <td>41.9</td>\n",
       "      <td>20.5</td>\n",
       "    </tr>\n",
       "    <tr>\n",
       "      <th>3</th>\n",
       "      <td>1896-07</td>\n",
       "      <td>NaN</td>\n",
       "      <td>0.0</td>\n",
       "      <td>0.0</td>\n",
       "      <td>12.2</td>\n",
       "      <td>0.0</td>\n",
       "      <td>0.0</td>\n",
       "      <td>22.9</td>\n",
       "      <td>43.3</td>\n",
       "      <td>0.0</td>\n",
       "      <td>86.5</td>\n",
       "      <td>0.0</td>\n",
       "      <td>28.6</td>\n",
       "      <td>38.4</td>\n",
       "      <td>18.8</td>\n",
       "    </tr>\n",
       "    <tr>\n",
       "      <th>4</th>\n",
       "      <td>1896-08</td>\n",
       "      <td>NaN</td>\n",
       "      <td>0.0</td>\n",
       "      <td>0.0</td>\n",
       "      <td>16.1</td>\n",
       "      <td>0.0</td>\n",
       "      <td>0.0</td>\n",
       "      <td>2.3</td>\n",
       "      <td>43.3</td>\n",
       "      <td>0.0</td>\n",
       "      <td>6.7</td>\n",
       "      <td>0.0</td>\n",
       "      <td>29.9</td>\n",
       "      <td>37.1</td>\n",
       "      <td>22.8</td>\n",
       "    </tr>\n",
       "    <tr>\n",
       "      <th>...</th>\n",
       "      <td>...</td>\n",
       "      <td>...</td>\n",
       "      <td>...</td>\n",
       "      <td>...</td>\n",
       "      <td>...</td>\n",
       "      <td>...</td>\n",
       "      <td>...</td>\n",
       "      <td>...</td>\n",
       "      <td>...</td>\n",
       "      <td>...</td>\n",
       "      <td>...</td>\n",
       "      <td>...</td>\n",
       "      <td>...</td>\n",
       "      <td>...</td>\n",
       "      <td>...</td>\n",
       "    </tr>\n",
       "    <tr>\n",
       "      <th>1416</th>\n",
       "      <td>2017-05</td>\n",
       "      <td>NaN</td>\n",
       "      <td>NaN</td>\n",
       "      <td>NaN</td>\n",
       "      <td>NaN</td>\n",
       "      <td>NaN</td>\n",
       "      <td>NaN</td>\n",
       "      <td>2.5</td>\n",
       "      <td>NaN</td>\n",
       "      <td>NaN</td>\n",
       "      <td>4.0</td>\n",
       "      <td>NaN</td>\n",
       "      <td>NaN</td>\n",
       "      <td>NaN</td>\n",
       "      <td>NaN</td>\n",
       "    </tr>\n",
       "    <tr>\n",
       "      <th>1417</th>\n",
       "      <td>2017-06</td>\n",
       "      <td>NaN</td>\n",
       "      <td>NaN</td>\n",
       "      <td>NaN</td>\n",
       "      <td>NaN</td>\n",
       "      <td>NaN</td>\n",
       "      <td>NaN</td>\n",
       "      <td>0.0</td>\n",
       "      <td>NaN</td>\n",
       "      <td>NaN</td>\n",
       "      <td>0.0</td>\n",
       "      <td>NaN</td>\n",
       "      <td>NaN</td>\n",
       "      <td>NaN</td>\n",
       "      <td>NaN</td>\n",
       "    </tr>\n",
       "    <tr>\n",
       "      <th>1418</th>\n",
       "      <td>2017-07</td>\n",
       "      <td>NaN</td>\n",
       "      <td>NaN</td>\n",
       "      <td>NaN</td>\n",
       "      <td>NaN</td>\n",
       "      <td>NaN</td>\n",
       "      <td>NaN</td>\n",
       "      <td>2.0</td>\n",
       "      <td>NaN</td>\n",
       "      <td>NaN</td>\n",
       "      <td>4.3</td>\n",
       "      <td>NaN</td>\n",
       "      <td>NaN</td>\n",
       "      <td>NaN</td>\n",
       "      <td>NaN</td>\n",
       "    </tr>\n",
       "    <tr>\n",
       "      <th>1419</th>\n",
       "      <td>2017-08</td>\n",
       "      <td>NaN</td>\n",
       "      <td>NaN</td>\n",
       "      <td>NaN</td>\n",
       "      <td>NaN</td>\n",
       "      <td>NaN</td>\n",
       "      <td>NaN</td>\n",
       "      <td>14.0</td>\n",
       "      <td>NaN</td>\n",
       "      <td>NaN</td>\n",
       "      <td>38.6</td>\n",
       "      <td>NaN</td>\n",
       "      <td>NaN</td>\n",
       "      <td>NaN</td>\n",
       "      <td>NaN</td>\n",
       "    </tr>\n",
       "    <tr>\n",
       "      <th>1420</th>\n",
       "      <td>2017-09</td>\n",
       "      <td>NaN</td>\n",
       "      <td>NaN</td>\n",
       "      <td>NaN</td>\n",
       "      <td>NaN</td>\n",
       "      <td>NaN</td>\n",
       "      <td>NaN</td>\n",
       "      <td>0.3</td>\n",
       "      <td>NaN</td>\n",
       "      <td>NaN</td>\n",
       "      <td>0.3</td>\n",
       "      <td>NaN</td>\n",
       "      <td>NaN</td>\n",
       "      <td>NaN</td>\n",
       "      <td>NaN</td>\n",
       "    </tr>\n",
       "  </tbody>\n",
       "</table>\n",
       "<p>1421 rows × 15 columns</p>\n",
       "</div>"
      ],
      "text/plain": [
       "         DATE  CDSD  DSND  DSNW  EMNT  EMSD  EMSN  EMXP  EMXT  HDSD  PRCP  \\\n",
       "0     1896-03   NaN   0.0   0.0   1.1   0.0   0.0   9.9  35.0   NaN  11.7   \n",
       "1     1896-04   NaN   0.0   0.0   4.4   0.0   0.0   0.8  35.6   NaN   0.8   \n",
       "2     1896-06   NaN   0.0   0.0  15.6   0.0   0.0   0.0  46.7   NaN   0.0   \n",
       "3     1896-07   NaN   0.0   0.0  12.2   0.0   0.0  22.9  43.3   0.0  86.5   \n",
       "4     1896-08   NaN   0.0   0.0  16.1   0.0   0.0   2.3  43.3   0.0   6.7   \n",
       "...       ...   ...   ...   ...   ...   ...   ...   ...   ...   ...   ...   \n",
       "1416  2017-05   NaN   NaN   NaN   NaN   NaN   NaN   2.5   NaN   NaN   4.0   \n",
       "1417  2017-06   NaN   NaN   NaN   NaN   NaN   NaN   0.0   NaN   NaN   0.0   \n",
       "1418  2017-07   NaN   NaN   NaN   NaN   NaN   NaN   2.0   NaN   NaN   4.3   \n",
       "1419  2017-08   NaN   NaN   NaN   NaN   NaN   NaN  14.0   NaN   NaN  38.6   \n",
       "1420  2017-09   NaN   NaN   NaN   NaN   NaN   NaN   0.3   NaN   NaN   0.3   \n",
       "\n",
       "      SNOW  TAVG  TMAX  TMIN  \n",
       "0      0.0  16.7  24.9   8.4  \n",
       "1      0.0  18.3  28.0   8.7  \n",
       "2      0.0  31.2  41.9  20.5  \n",
       "3      0.0  28.6  38.4  18.8  \n",
       "4      0.0  29.9  37.1  22.8  \n",
       "...    ...   ...   ...   ...  \n",
       "1416   NaN   NaN   NaN   NaN  \n",
       "1417   NaN   NaN   NaN   NaN  \n",
       "1418   NaN   NaN   NaN   NaN  \n",
       "1419   NaN   NaN   NaN   NaN  \n",
       "1420   NaN   NaN   NaN   NaN  \n",
       "\n",
       "[1421 rows x 15 columns]"
      ]
     },
     "execution_count": 22,
     "metadata": {},
     "output_type": "execute_result"
    }
   ],
   "source": [
    "df.drop(['STATION','NAME'], axis = 'columns')"
   ]
  },
  {
   "cell_type": "code",
   "execution_count": 23,
   "metadata": {},
   "outputs": [
    {
     "name": "stdout",
     "output_type": "stream",
     "text": [
      "             STATION         NAME  CDSD  DSND  DSNW  EMNT  EMSD  EMSN  EMXP  \\\n",
      "DATE                                                                          \n",
      "1896-03  USC00025467  MESA, AZ US   NaN   0.0   0.0   1.1   0.0   0.0   9.9   \n",
      "1896-04  USC00025467  MESA, AZ US   NaN   0.0   0.0   4.4   0.0   0.0   0.8   \n",
      "1896-06  USC00025467  MESA, AZ US   NaN   0.0   0.0  15.6   0.0   0.0   0.0   \n",
      "1896-07  USC00025467  MESA, AZ US   NaN   0.0   0.0  12.2   0.0   0.0  22.9   \n",
      "1896-08  USC00025467  MESA, AZ US   NaN   0.0   0.0  16.1   0.0   0.0   2.3   \n",
      "\n",
      "         EMXT  HDSD  PRCP  SNOW  TAVG  TMAX  TMIN  \n",
      "DATE                                               \n",
      "1896-03  35.0   NaN  11.7   0.0  16.7  24.9   8.4  \n",
      "1896-04  35.6   NaN   0.8   0.0  18.3  28.0   8.7  \n",
      "1896-06  46.7   NaN   0.0   0.0  31.2  41.9  20.5  \n",
      "1896-07  43.3   0.0  86.5   0.0  28.6  38.4  18.8  \n",
      "1896-08  43.3   0.0   6.7   0.0  29.9  37.1  22.8  \n"
     ]
    }
   ],
   "source": [
    "df = df.set_index('DATE')\n",
    "print(df.head())"
   ]
  },
  {
   "cell_type": "code",
   "execution_count": 24,
   "metadata": {},
   "outputs": [
    {
     "name": "stdout",
     "output_type": "stream",
     "text": [
      "             STATION         NAME  CDSD  DSND  DSNW  EMNT  EMSD  EMSN  EMXP  \\\n",
      "DATE                                                                          \n",
      "1896-03  USC00025467  MESA, AZ US   NaN   0.0   0.0   1.1   0.0   0.0   9.9   \n",
      "1896-04  USC00025467  MESA, AZ US   NaN   0.0   0.0   4.4   0.0   0.0   0.8   \n",
      "1896-06  USC00025467  MESA, AZ US   NaN   0.0   0.0  15.6   0.0   0.0   0.0   \n",
      "1896-07  USC00025467  MESA, AZ US   NaN   0.0   0.0  12.2   0.0   0.0  22.9   \n",
      "1896-08  USC00025467  MESA, AZ US   NaN   0.0   0.0  16.1   0.0   0.0   2.3   \n",
      "\n",
      "         EMXT  HDSD  PRCP  SNOW  TAVG  TMAX  TMIN  \n",
      "DATE                                               \n",
      "1896-03  35.0   NaN  11.7   0.0  16.7  24.9   8.4  \n",
      "1896-04  35.6   NaN   0.8   0.0  18.3  28.0   8.7  \n",
      "1896-06  46.7   NaN   0.0   0.0  31.2  41.9  20.5  \n",
      "1896-07  43.3   0.0  86.5   0.0  28.6  38.4  18.8  \n",
      "1896-08  43.3   0.0   6.7   0.0  29.9  37.1  22.8  \n"
     ]
    }
   ],
   "source": [
    "print(df.head())"
   ]
  },
  {
   "cell_type": "code",
   "execution_count": 25,
   "metadata": {},
   "outputs": [],
   "source": [
    "df = df.drop(df.loc[:,'CDSD':'HDSD'], axis = 'columns')"
   ]
  },
  {
   "cell_type": "code",
   "execution_count": 26,
   "metadata": {},
   "outputs": [
    {
     "name": "stdout",
     "output_type": "stream",
     "text": [
      "             STATION         NAME  PRCP  SNOW  TAVG  TMAX  TMIN\n",
      "DATE                                                           \n",
      "1896-03  USC00025467  MESA, AZ US  11.7   0.0  16.7  24.9   8.4\n",
      "1896-04  USC00025467  MESA, AZ US   0.8   0.0  18.3  28.0   8.7\n",
      "1896-06  USC00025467  MESA, AZ US   0.0   0.0  31.2  41.9  20.5\n",
      "1896-07  USC00025467  MESA, AZ US  86.5   0.0  28.6  38.4  18.8\n",
      "1896-08  USC00025467  MESA, AZ US   6.7   0.0  29.9  37.1  22.8\n"
     ]
    }
   ],
   "source": [
    "print(df.head())"
   ]
  },
  {
   "cell_type": "code",
   "execution_count": 58,
   "metadata": {},
   "outputs": [
    {
     "name": "stdout",
     "output_type": "stream",
     "text": [
      "             STATION         NAME   PRCP  SNOW  TAVG  TMAX  TMIN\n",
      "DATE                                                            \n",
      "1905-02  USC00025467  MESA, AZ US  123.4   0.0  13.4  19.1   7.7\n",
      "1906-08  USC00025467  MESA, AZ US  103.3   0.0  30.5  38.5  22.5\n",
      "1911-07  USC00025467  MESA, AZ US  151.6   0.0  29.0  35.6  22.4\n",
      "1931-02  USC00025467  MESA, AZ US  114.5   0.0  12.6  19.4   5.7\n",
      "1936-07  USC00025467  MESA, AZ US  106.1   0.0  31.9  40.6  23.3\n",
      "1940-12  USC00025467  MESA, AZ US  103.2   0.0  13.0  19.7   6.3\n",
      "1943-08  USC00025467  MESA, AZ US  106.3   0.0  29.8  36.9  22.7\n",
      "1965-12  USC00025467  MESA, AZ US  105.6   0.0  11.9  18.3   5.6\n",
      "1967-12  USC00025467  MESA, AZ US  108.5   0.0   9.2  15.8   2.6\n",
      "1992-03  USC00025467  MESA, AZ US  109.8   0.0   NaN   NaN   NaN\n",
      "1993-01  USC00025467  MESA, AZ US  147.7   0.0   NaN   NaN   NaN\n",
      "1998-02  USC00025467  MESA, AZ US  112.3   0.0   NaN   NaN   NaN\n",
      "2000-10  USC00025467  MESA, AZ US  104.7   0.0   NaN   NaN   NaN\n",
      "2014-09  USC00025467  MESA, AZ US  139.5   NaN   NaN   NaN   NaN\n"
     ]
    }
   ],
   "source": [
    "rainy  = df.loc[df.PRCP >= 100]\n",
    "print(rainy)"
   ]
  },
  {
   "cell_type": "code",
   "execution_count": 59,
   "metadata": {},
   "outputs": [
    {
     "name": "stdout",
     "output_type": "stream",
     "text": [
      "Index(['1992-03', '1993-01', '1998-02', '2000-10', '2014-09'], dtype='object', name='DATE')\n",
      "             STATION         NAME   PRCP  SNOW  TAVG  TMAX  TMIN\n",
      "DATE                                                            \n",
      "1905-02  USC00025467  MESA, AZ US  123.4   0.0  13.4  19.1   7.7\n",
      "1906-08  USC00025467  MESA, AZ US  103.3   0.0  30.5  38.5  22.5\n",
      "1911-07  USC00025467  MESA, AZ US  151.6   0.0  29.0  35.6  22.4\n",
      "1931-02  USC00025467  MESA, AZ US  114.5   0.0  12.6  19.4   5.7\n",
      "1936-07  USC00025467  MESA, AZ US  106.1   0.0  31.9  40.6  23.3\n",
      "1940-12  USC00025467  MESA, AZ US  103.2   0.0  13.0  19.7   6.3\n",
      "1943-08  USC00025467  MESA, AZ US  106.3   0.0  29.8  36.9  22.7\n",
      "1965-12  USC00025467  MESA, AZ US  105.6   0.0  11.9  18.3   5.6\n",
      "1967-12  USC00025467  MESA, AZ US  108.5   0.0   9.2  15.8   2.6\n"
     ]
    }
   ],
   "source": [
    "\n",
    "null = rainy.loc[rainy.TAVG.isnull()].index\n",
    "print(null)\n",
    "\n",
    "# Need to drop the index values, so retrieved indec values above!!\n",
    "rainy_new = rainy.drop(rainy.loc[rainy.TAVG.isnull()].index)\n",
    "print(rainy_new)\n"
   ]
  },
  {
   "cell_type": "code",
   "execution_count": 77,
   "metadata": {},
   "outputs": [
    {
     "name": "stdout",
     "output_type": "stream",
     "text": [
      "             STATION         NAME   PRCP  SNOW  TAVG  TMAX  TMIN  MMAVE\n",
      "DATE                                                                   \n",
      "1905-02  USC00025467  MESA, AZ US  123.4   0.0  13.4  19.1   7.7  13.40\n",
      "1906-08  USC00025467  MESA, AZ US  103.3   0.0  30.5  38.5  22.5  30.50\n",
      "1911-07  USC00025467  MESA, AZ US  151.6   0.0  29.0  35.6  22.4  29.00\n",
      "1931-02  USC00025467  MESA, AZ US  114.5   0.0  12.6  19.4   5.7  12.55\n",
      "1936-07  USC00025467  MESA, AZ US  106.1   0.0  31.9  40.6  23.3  31.95\n",
      "1940-12  USC00025467  MESA, AZ US  103.2   0.0  13.0  19.7   6.3  13.00\n",
      "1943-08  USC00025467  MESA, AZ US  106.3   0.0  29.8  36.9  22.7  29.80\n",
      "1965-12  USC00025467  MESA, AZ US  105.6   0.0  11.9  18.3   5.6  11.95\n",
      "1967-12  USC00025467  MESA, AZ US  108.5   0.0   9.2  15.8   2.6   9.20\n",
      "         TMAX  TMIN  MMAVE\n",
      "DATE                      \n",
      "1905-02  19.1   7.7  13.40\n",
      "1906-08  38.5  22.5  30.50\n",
      "1911-07  35.6  22.4  29.00\n",
      "1931-02  19.4   5.7  12.55\n",
      "1936-07  40.6  23.3  31.95\n",
      "1940-12  19.7   6.3  13.00\n",
      "1943-08  36.9  22.7  29.80\n",
      "1965-12  18.3   5.6  11.95\n",
      "1967-12  15.8   2.6   9.20\n"
     ]
    }
   ],
   "source": [
    "# rainy_temps = rainy_new.loc[:, ['TMAX', 'TMIN']]\n",
    "# print(rainy_temps)\n",
    "\n",
    "rainy_new['MMAVE'] = rainy_new.loc[:, ['TMAX', 'TMIN']].mean(axis = 'columns')\n",
    "print(rainy_new)\n",
    "\n",
    "rainy_temps['MMAVE'] = rainy_temps.mean(axis = 'columns')\n",
    "print(rainy_temps)"
   ]
  },
  {
   "cell_type": "code",
   "execution_count": 78,
   "metadata": {},
   "outputs": [
    {
     "name": "stdout",
     "output_type": "stream",
     "text": [
      "Collecting langdetect\n",
      "  Downloading langdetect-1.0.9.tar.gz (981 kB)\n",
      "\u001b[K     |████████████████████████████████| 981 kB 3.6 MB/s eta 0:00:01\n",
      "\u001b[?25hRequirement already satisfied: six in /Users/gennachiaro/opt/anaconda3/envs/myenv/lib/python3.8/site-packages (from langdetect) (1.15.0)\n",
      "Building wheels for collected packages: langdetect\n",
      "  Building wheel for langdetect (setup.py) ... \u001b[?25ldone\n",
      "\u001b[?25h  Created wheel for langdetect: filename=langdetect-1.0.9-py3-none-any.whl size=993221 sha256=32b993b4605f30a3e699d4a6eb26465348cf2fc7803ad09c7d921bdf1582b535\n",
      "  Stored in directory: /Users/gennachiaro/Library/Caches/pip/wheels/13/c7/b0/79f66658626032e78fc1a83103690ef6797d551cb22e56e734\n",
      "Successfully built langdetect\n",
      "Installing collected packages: langdetect\n",
      "Successfully installed langdetect-1.0.9\n"
     ]
    }
   ],
   "source": [
    "!pip install langdetect"
   ]
  },
  {
   "cell_type": "code",
   "execution_count": 79,
   "metadata": {},
   "outputs": [
    {
     "name": "stdout",
     "output_type": "stream",
     "text": [
      "[fr:0.9999960898115311]\n",
      "fr:0.9999960898115311\n"
     ]
    }
   ],
   "source": [
    "from langdetect import detect_langs\n",
    "string = \"S'il vous plaît, ne marchez pas sur l'herbe.\"\n",
    "lang_list = detect_langs(string)\n",
    "print(lang_list)\n",
    "lang_string = str(lang_list[0])\n",
    "print(lang_string)"
   ]
  },
  {
   "cell_type": "markdown",
   "metadata": {},
   "source": [
    "9. Iterate through each row of the table and pass the Title value for that row into the detect_langs() function. From the returned list of strings, split the first string in the list on the colon (:) character, and print the language code and confidence score.\n",
    "\n",
    "10. Modify your script to insert the detected language code into the table as a new column."
   ]
  },
  {
   "cell_type": "code",
   "execution_count": 187,
   "metadata": {},
   "outputs": [],
   "source": [
    "lang = pd.read_csv('https://github.com/HeardLibrary/digital-scholarship/raw/master/data/codegraf/publication_translations.csv')\n"
   ]
  },
  {
   "cell_type": "code",
   "execution_count": 196,
   "metadata": {},
   "outputs": [
    {
     "name": "stdout",
     "output_type": "stream",
     "text": [
      "[de:0.9999959646996903]\n",
      "de\n",
      "[pt:0.9999963969291069]\n",
      "pt\n",
      "[pt:0.9999987586370254]\n",
      "pt\n",
      "[it:0.9999985696635151]\n",
      "it\n",
      "[es:0.9999980059002672]\n",
      "es\n",
      "[pt:0.9999960052650194]\n",
      "pt\n",
      "[es:0.9999976072577537]\n",
      "es\n",
      "[de:0.5714266252271449, et:0.42857186942524256]\n",
      "de\n",
      "[pt:0.9999944944402986]\n",
      "pt\n",
      "[pt:0.9999944247082697]\n",
      "pt\n",
      "[en:0.9999959068822055]\n",
      "en\n",
      "   Publication Year         Author  \\\n",
      "0               NaN  Rieger, Jeorg   \n",
      "1            2014.0  Rieger, Jeorg   \n",
      "2            2012.0  Rieger, Jeorg   \n",
      "3               NaN  Rieger, Jeorg   \n",
      "4            2016.0  Rieger, Jeorg   \n",
      "\n",
      "                                               Title               ISBN  \\\n",
      "0     Gemeinsam sind wir stärker: „Tiefe Solidarität  978-3-89965-883-5   \n",
      "1                  Fé e viagens no mundo globalizado                NaN   \n",
      "2  Graça sob Pressão: Negociando o Coração das Tr...  978-85-8046-016-2   \n",
      "3                         Globalizzazione e Teologia  978-88-399-0884-1   \n",
      "4  La religion del Mercado: Una aproximación crít...                NaN   \n",
      "\n",
      "               Publisher         Place              Translator Language  \n",
      "0            VSA: Verlag       Hamburg           Plonz, Sabine       de  \n",
      "1         Editora Paulus     Sao Paulo  Vidigal, José Raimundo       pt  \n",
      "2  São Bernardo do Campo        Editeo            Maia, Felipe       pt  \n",
      "3             Queriniana       Brescia           Aguti, Andrea       it  \n",
      "4    Ediciones La Aurora  Buenos Aires          Míguez, Néstor       es  \n"
     ]
    }
   ],
   "source": [
    "#create empty datframe\n",
    "language = []\n",
    "\n",
    "for label_index, title_series in lang.iterrows():\n",
    "    # print()\n",
    "    # print(title_series.loc['Title'])\n",
    "    # print( )\n",
    "    langs = detect_langs(title_series.loc['Title'])\n",
    "    print(langs)\n",
    "    \n",
    "    langs = str(langs)\n",
    "    langs = langs[1:3].split(':')\n",
    "    \n",
    "    print(langs[0])\n",
    "    language.append(langs[0])\n",
    "\n",
    "lang['Language'] = language\n",
    "\n",
    "print(lang.head())\n",
    "\n",
    "    "
   ]
  },
  {
   "cell_type": "code",
   "execution_count": 194,
   "metadata": {},
   "outputs": [
    {
     "name": "stdout",
     "output_type": "stream",
     "text": [
      "    Publication Year                                          Author  \\\n",
      "0                NaN                                   Rieger, Jeorg   \n",
      "1             2014.0                                   Rieger, Jeorg   \n",
      "2             2012.0                                   Rieger, Jeorg   \n",
      "3                NaN                                   Rieger, Jeorg   \n",
      "4             2016.0                                   Rieger, Jeorg   \n",
      "5             2012.0                                   Rieger, Jeorg   \n",
      "6             2016.0                                   Rieger, Jeorg   \n",
      "7             2009.0                                   Rieger, Jeorg   \n",
      "8             2009.0                                   Rieger, Jeorg   \n",
      "9             2009.0                                   Rieger, Jeorg   \n",
      "10            2007.0  Anderson, Gary L.; Herr, Kathryn; Thomson Gale   \n",
      "\n",
      "                                                Title               ISBN  \\\n",
      "0      Gemeinsam sind wir stärker: „Tiefe Solidarität  978-3-89965-883-5   \n",
      "1                   Fé e viagens no mundo globalizado                NaN   \n",
      "2   Graça sob Pressão: Negociando o Coração das Tr...  978-85-8046-016-2   \n",
      "3                          Globalizzazione e Teologia  978-88-399-0884-1   \n",
      "4   La religion del Mercado: Una aproximación crít...                NaN   \n",
      "5   Para além do espírito do Império: Novas perspe...                NaN   \n",
      "6   Más allá del espiritu imperial: Nuevas perspec...                NaN   \n",
      "7   Christus und das Imperium : von Paulus bis zum...                NaN   \n",
      "8   Cristo e Império: de Paulo aos tempos pós-colo...                NaN   \n",
      "9   Lembrar-se dos Pobres: o desafio da teologia n...                NaN   \n",
      "10  Encyclopedia of activism and social justice Ga...  978-1-4129-5388-7   \n",
      "\n",
      "                Publisher                 Place  \\\n",
      "0             VSA: Verlag               Hamburg   \n",
      "1          Editora Paulus             Sao Paulo   \n",
      "2   São Bernardo do Campo                Editeo   \n",
      "3              Queriniana               Brescia   \n",
      "4     Ediciones La Aurora          Buenos Aires   \n",
      "5         Paulinas, 2012.             Sao Paulo   \n",
      "6     Ediciones La Aurora          Buenos Aires   \n",
      "7              Lit Verlag                Berlin   \n",
      "8          Editora Paulus             Sao Paulo   \n",
      "9          Edições Loyola             Sao Paulo   \n",
      "10      Sage Publications  Thousand Oaks, Calif   \n",
      "\n",
      "                                          Translator Language  \n",
      "0                                      Plonz, Sabine       de  \n",
      "1                             Vidigal, José Raimundo       pt  \n",
      "2                                       Maia, Felipe       pt  \n",
      "3                                      Aguti, Andrea       it  \n",
      "4                                     Míguez, Néstor       es  \n",
      "5   Gilmar Saint’ Clair Ribeiro; Lambert, Barbara T.       pt  \n",
      "6                   Míguez, Néstor; Panotto ,Nicolás       es  \n",
      "7                                      Plonz, Sabine       et  \n",
      "8                        Luiz Alexandre Solano Rossi       pt  \n",
      "9                                      Gambi, Thiago       pt  \n",
      "10                                               NaN       en  \n"
     ]
    }
   ],
   "source": [
    "print(lang)"
   ]
  }
 ],
 "metadata": {
  "kernelspec": {
   "display_name": "Python 3.8.12 ('myenv')",
   "language": "python",
   "name": "python3"
  },
  "language_info": {
   "codemirror_mode": {
    "name": "ipython",
    "version": 3
   },
   "file_extension": ".py",
   "mimetype": "text/x-python",
   "name": "python",
   "nbconvert_exporter": "python",
   "pygments_lexer": "ipython3",
   "version": "3.8.12"
  },
  "orig_nbformat": 4,
  "vscode": {
   "interpreter": {
    "hash": "752b670b82d8fa8b9344673721c114f460db6cd94d58b79aafcc7a99e5932b1e"
   }
  }
 },
 "nbformat": 4,
 "nbformat_minor": 2
}
